{
 "cells": [
  {
   "cell_type": "markdown",
   "metadata": {},
   "source": [
    "# jupyterのセットアップ\n",
    "\n",
    "```sh\n",
    "$ pip install jupyter \"ipython[notebook]\" matplotlib\n",
    "```\n",
    "\n",
    "`jupyter notebook`で起動.\n",
    "\n",
    "\n",
    "macでpyenv経由でインストールしていると起動時に以下の様なエラーが出ることがある。\n",
    "その場合はpythonのインストールからやり直す必要がある。\n",
    "\n",
    "```sh\n",
    "$ PYTHON_CONFIGURE_OPTS=\"--enable-unicode=ucs2\" pyenv install 2.7.10\n",
    "```\n",
    "\n",
    "# jupyterの起動方法\n",
    "```sh\n",
    "$ jupyter notebook\n",
    "```\n",
    "\n",
    "もしくは、vscodeのjupyterでipynbファイルを開くと自動的にjupyterも立ち上がる。"
   ]
  }
 ],
 "metadata": {
  "kernelspec": {
   "display_name": "3.12.1",
   "language": "python",
   "name": "python3"
  },
  "language_info": {
   "codemirror_mode": {
    "name": "ipython",
    "version": 2
   },
   "file_extension": ".py",
   "mimetype": "text/x-python",
   "name": "python",
   "nbconvert_exporter": "python",
   "pygments_lexer": "ipython2",
   "version": "3.12.1"
  }
 },
 "nbformat": 4,
 "nbformat_minor": 0
}
