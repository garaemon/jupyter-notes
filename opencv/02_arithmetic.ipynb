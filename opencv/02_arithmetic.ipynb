{
 "cells": [
  {
   "cell_type": "markdown",
   "metadata": {},
   "source": [
    "# 画像の足し算\n",
    "opencvで画像はnumpyの配列なので、足すとそのまま足される。"
   ]
  },
  {
   "cell_type": "code",
   "execution_count": null,
   "metadata": {},
   "outputs": [
    {
     "data": {
      "text/plain": [
       "array([110], dtype=uint8)"
      ]
     },
     "execution_count": 21,
     "metadata": {},
     "output_type": "execute_result"
    }
   ],
   "source": [
    "import numpy as np\n",
    "import cv2\n",
    "\n",
    "x_image = np.uint8([100])\n",
    "y_image = np.uint8([10])\n",
    "\n",
    "x_image + y_image"
   ]
  },
  {
   "cell_type": "markdown",
   "metadata": {},
   "source": [
    "uint8になっているので、255を超えると0に戻る"
   ]
  },
  {
   "cell_type": "code",
   "execution_count": 23,
   "metadata": {},
   "outputs": [
    {
     "data": {
      "text/plain": [
       "array([4], dtype=uint8)"
      ]
     },
     "execution_count": 23,
     "metadata": {},
     "output_type": "execute_result"
    }
   ],
   "source": [
    "x_image = np.uint8([250])\n",
    "y_image = np.uint8([10])\n",
    "\n",
    "x_image + y_image"
   ]
  },
  {
   "cell_type": "markdown",
   "metadata": {},
   "source": [
    "`cv.add()`を使うと、最大値の255で止まり、255を超えても0に戻らない。ただし、`dtype`を指定する必要がある。"
   ]
  },
  {
   "cell_type": "code",
   "execution_count": 24,
   "metadata": {},
   "outputs": [
    {
     "data": {
      "text/plain": [
       "array([[255],\n",
       "       [  0],\n",
       "       [  0],\n",
       "       [  0]], dtype=uint8)"
      ]
     },
     "execution_count": 24,
     "metadata": {},
     "output_type": "execute_result"
    }
   ],
   "source": [
    "cv2.add(x_image, y_image, dtype=cv2.CV_8U)"
   ]
  },
  {
   "cell_type": "markdown",
   "metadata": {},
   "source": [
    "何も指定しないとfloat64になって、255の限界などは特になく浮動小数点数として扱われる。"
   ]
  },
  {
   "cell_type": "code",
   "execution_count": 25,
   "metadata": {},
   "outputs": [
    {
     "name": "stdout",
     "output_type": "stream",
     "text": [
      "[[260.]\n",
      " [  0.]\n",
      " [  0.]\n",
      " [  0.]]\n",
      "float64\n",
      "(4, 1)\n"
     ]
    }
   ],
   "source": [
    "z_image = cv2.add(x_image, y_image)\n",
    "print(z_image)\n",
    "print(z_image.dtype)\n",
    "print(z_image.shape)"
   ]
  },
  {
   "cell_type": "markdown",
   "metadata": {},
   "source": [
    "自動的に4チャンネルの画像になってしまうのはなぜだろう? [ドキュメント](https://docs.opencv.org/4.x/d2/de8/group__core__array.html)と挙動が違う."
   ]
  },
  {
   "cell_type": "markdown",
   "metadata": {},
   "source": []
  }
 ],
 "metadata": {
  "kernelspec": {
   "display_name": "3.12.1",
   "language": "python",
   "name": "python3"
  },
  "language_info": {
   "codemirror_mode": {
    "name": "ipython",
    "version": 3
   },
   "file_extension": ".py",
   "mimetype": "text/x-python",
   "name": "python",
   "nbconvert_exporter": "python",
   "pygments_lexer": "ipython3",
   "version": "3.12.1"
  }
 },
 "nbformat": 4,
 "nbformat_minor": 2
}
